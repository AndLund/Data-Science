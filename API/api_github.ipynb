{
 "cells": [
  {
   "cell_type": "code",
   "execution_count": 5,
   "metadata": {},
   "outputs": [],
   "source": [
    "import requests, json"
   ]
  },
  {
   "cell_type": "code",
   "execution_count": 12,
   "metadata": {},
   "outputs": [],
   "source": [
    "endpoint = 'https://api.github.com/users/andlund/repos'"
   ]
  },
  {
   "cell_type": "code",
   "execution_count": 16,
   "metadata": {},
   "outputs": [],
   "source": [
    "repos = json.loads(requests.get(endpoint).text)"
   ]
  },
  {
   "cell_type": "code",
   "execution_count": 5,
   "metadata": {},
   "outputs": [
    {
     "name": "stdout",
     "output_type": "stream",
     "text": [
      "Requirement already satisfied: python-dateutil in e:\\softwares\\anaconda\\lib\\site-packages (2.8.1)\n",
      "Requirement already satisfied: six>=1.5 in e:\\softwares\\anaconda\\lib\\site-packages (from python-dateutil) (1.15.0)\n"
     ]
    }
   ],
   "source": [
    "#!pip install python-dateutil"
   ]
  },
  {
   "cell_type": "code",
   "execution_count": 14,
   "metadata": {},
   "outputs": [],
   "source": [
    "from dateutil.parser import parse\n",
    "from collections import Counter\n",
    "dates = [parse(repo['created_at']) for repo in repos] # lista de compressão - obtem todas as datas\n",
    "month_counts = Counter(date.month for date in dates)\n",
    "weekday_counts = Counter(date.weekday() for date in dates)"
   ]
  },
  {
   "cell_type": "code",
   "execution_count": 17,
   "metadata": {},
   "outputs": [
    {
     "data": {
      "text/plain": [
       "[datetime.datetime(2019, 11, 30, 17, 27, 45, tzinfo=tzutc()),\n",
       " datetime.datetime(2019, 11, 26, 1, 33, tzinfo=tzutc()),\n",
       " datetime.datetime(2020, 5, 1, 19, 8, 28, tzinfo=tzutc()),\n",
       " datetime.datetime(2019, 12, 4, 2, 13, 44, tzinfo=tzutc()),\n",
       " datetime.datetime(2021, 1, 28, 15, 41, 44, tzinfo=tzutc()),\n",
       " datetime.datetime(2020, 9, 17, 12, 7, 20, tzinfo=tzutc()),\n",
       " datetime.datetime(2020, 9, 16, 23, 44, 10, tzinfo=tzutc()),\n",
       " datetime.datetime(2019, 10, 13, 20, 43, 52, tzinfo=tzutc()),\n",
       " datetime.datetime(2019, 12, 18, 21, 24, 14, tzinfo=tzutc()),\n",
       " datetime.datetime(2020, 8, 18, 1, 24, 39, tzinfo=tzutc()),\n",
       " datetime.datetime(2021, 1, 23, 1, 34, 37, tzinfo=tzutc()),\n",
       " datetime.datetime(2021, 3, 13, 16, 2, 41, tzinfo=tzutc()),\n",
       " datetime.datetime(2019, 2, 28, 0, 11, 10, tzinfo=tzutc()),\n",
       " datetime.datetime(2019, 9, 23, 19, 20, 29, tzinfo=tzutc()),\n",
       " datetime.datetime(2019, 11, 18, 23, 38, 59, tzinfo=tzutc()),\n",
       " datetime.datetime(2020, 8, 19, 23, 55, 20, tzinfo=tzutc()),\n",
       " datetime.datetime(2019, 4, 9, 22, 12, 22, tzinfo=tzutc())]"
      ]
     },
     "execution_count": 17,
     "metadata": {},
     "output_type": "execute_result"
    }
   ],
   "source": [
    "dates"
   ]
  },
  {
   "cell_type": "code",
   "execution_count": 18,
   "metadata": {},
   "outputs": [
    {
     "data": {
      "text/plain": [
       "Counter({11: 3, 5: 1, 12: 2, 1: 2, 9: 3, 10: 1, 8: 2, 3: 1, 2: 1, 4: 1})"
      ]
     },
     "execution_count": 18,
     "metadata": {},
     "output_type": "execute_result"
    }
   ],
   "source": [
    "month_counts"
   ]
  },
  {
   "cell_type": "code",
   "execution_count": 19,
   "metadata": {},
   "outputs": [
    {
     "data": {
      "text/plain": [
       "Counter({5: 3, 1: 3, 4: 1, 2: 4, 3: 3, 6: 1, 0: 2})"
      ]
     },
     "execution_count": 19,
     "metadata": {},
     "output_type": "execute_result"
    }
   ],
   "source": [
    "weekday_counts"
   ]
  },
  {
   "cell_type": "code",
   "execution_count": 20,
   "metadata": {},
   "outputs": [],
   "source": [
    "last_5_repositories = sorted(repos,\n",
    "                             key=lambda r: r['created_at'],\n",
    "                             reverse=True)[:5]"
   ]
  },
  {
   "cell_type": "code",
   "execution_count": 21,
   "metadata": {},
   "outputs": [],
   "source": [
    "last_5_languages = [repo['language']\n",
    "                    for repo in last_5_repositories]"
   ]
  },
  {
   "cell_type": "code",
   "execution_count": 22,
   "metadata": {},
   "outputs": [
    {
     "data": {
      "text/plain": [
       "['Kotlin', 'Jupyter Notebook', 'Kotlin', 'JavaScript', None]"
      ]
     },
     "execution_count": 22,
     "metadata": {},
     "output_type": "execute_result"
    }
   ],
   "source": [
    "last_5_languages"
   ]
  },
  {
   "cell_type": "code",
   "execution_count": null,
   "metadata": {},
   "outputs": [],
   "source": []
  }
 ],
 "metadata": {
  "kernelspec": {
   "display_name": "Python 3",
   "language": "python",
   "name": "python3"
  },
  "language_info": {
   "codemirror_mode": {
    "name": "ipython",
    "version": 3
   },
   "file_extension": ".py",
   "mimetype": "text/x-python",
   "name": "python",
   "nbconvert_exporter": "python",
   "pygments_lexer": "ipython3",
   "version": "3.8.5"
  }
 },
 "nbformat": 4,
 "nbformat_minor": 4
}
