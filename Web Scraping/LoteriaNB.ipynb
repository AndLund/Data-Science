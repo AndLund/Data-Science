{
 "cells": [
  {
   "cell_type": "code",
   "execution_count": null,
   "metadata": {},
   "outputs": [],
   "source": [
    "#QUESTAO 01 E QUESTAO 02\n",
    "import requests\n",
    "from bs4 import BeautifulSoup as soup\n",
    "import pymongo\n",
    "from pymongo import MongoClient\n",
    "from selenium import webdriver\n",
    "#AJUSTAR CONNECTION\n",
    "cluster = MongoClient('connection string')\n",
    "db = cluster[\"concursos\"]\n",
    "tb = db[\"megasena\"]\n",
    "\n",
    "def getConcurso(numero):\n",
    "    options = webdriver.FirefoxOptions()\n",
    "    options.add_argument('headless')\n",
    "    options.add_argument('window-size=1920x1080')\n",
    "    #AJUSTAR PATH\n",
    "    driver = webdriver.Firefox(executable_path = r'geckodriver.exe path', options = options)\n",
    "    url = 'https://www.loteriaseresultados.com.br/index.php/megasena/concurso/' + numero\n",
    "    driver.get(url)\n",
    "    \n",
    "    try:\n",
    "        body = driver.find_element_by_tag_name('body')\n",
    "        html = body.get_attribute('innerHTML')\n",
    "        soupPage = soup(html, 'html5lib')\n",
    "        spanList = soupPage.findAll( \"span\", class_='white--text font-weight-bold')\n",
    "        numSorteados = []\n",
    "        concGanha = soupPage.findAll('td', class_='text-center')\n",
    "        premio = soupPage.findAll('td', class_='text-right')\n",
    "        \n",
    "        for n in range(6):\n",
    "            numSorteados.append(int(spanList[n].text))\n",
    "        #Q1 PARA ADICIONAR APENAS O RESULTADO DA MEGASENA\n",
    "        #tb.insert_one({numero: numSorteados})\n",
    "        #Q2 PARA ADICIONAR RESULTADO DA MEGASENA E INFOS DOS OUTROS CONCURSOS\n",
    "        \"\"\"\n",
    "        tb.insert_one({numero: {\n",
    "            'resultSena': numSorteados,\n",
    "            concGanha[0].text: {'ganhadores': str(concGanha[1].text),'valor': str(premio[0].text)},\n",
    "            concGanha[2].text: {'ganhadores': str(concGanha[3].text),'valor': str(premio[1].text)},\n",
    "            concGanha[4].text: {'ganhadores': str(concGanha[5].text),'valor': str(premio[2].text)}}\n",
    "        })\n",
    "        \"\"\"\n",
    "    except:\n",
    "        print('criterio nao encontrado')\n",
    "    \n",
    "    print('Terminei a raspagem de dados')\n",
    "    driver.close()\n",
    "getConcurso(\"2340\")"
   ]
  }
 ],
 "metadata": {
  "kernelspec": {
   "display_name": "Python 3",
   "language": "python",
   "name": "python3"
  },
  "language_info": {
   "codemirror_mode": {
    "name": "ipython",
    "version": 3
   },
   "file_extension": ".py",
   "mimetype": "text/x-python",
   "name": "python",
   "nbconvert_exporter": "python",
   "pygments_lexer": "ipython3",
   "version": "3.8.5"
  }
 },
 "nbformat": 4,
 "nbformat_minor": 4
}
